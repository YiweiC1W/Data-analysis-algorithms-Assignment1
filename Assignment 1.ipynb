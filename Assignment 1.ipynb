{
 "cells": [
  {
   "cell_type": "markdown",
   "metadata": {},
   "source": [
    "# Question 1"
   ]
  },
  {
   "cell_type": "code",
   "execution_count": 1,
   "metadata": {},
   "outputs": [
    {
     "ename": "ERROR",
     "evalue": "Error in library(corrplot): there is no package called 'corrplot'\n",
     "output_type": "error",
     "traceback": [
      "Error in library(corrplot): there is no package called 'corrplot'\nTraceback:\n",
      "1. library(corrplot)",
      "2. stop(txt, domain = NA)"
     ]
    }
   ],
   "source": [
    "library(reshape2)\n",
    "library(ggplot2)\n",
    "library(corrplot)"
   ]
  },
  {
   "cell_type": "code",
   "execution_count": 2,
   "metadata": {},
   "outputs": [],
   "source": [
    "train.data = read.csv(\"Task1A_train.csv\")\n",
    "test.data = read.csv(\"Task1A_test.csv\")\n",
    "train.label = train.data[2]\n",
    "train.data = train.data[1]\n",
    "test.label = test.data[2]\n",
    "test.data = test.data[1]"
   ]
  },
  {
   "cell_type": "code",
   "execution_count": 3,
   "metadata": {},
   "outputs": [],
   "source": [
    "# KNN function (distance should be one of euclidean, maximum, manhattan, canberra, binary or minkowski)\n",
    "knn <- function(train.data, train.label, test.data, K=3, distance = 'euclidean'){\n",
    "    ## count number of train samples\n",
    "    train.len <- nrow(train.data)\n",
    "    #print(train.len)\n",
    "    ## count number of test samples\n",
    "    test.len <- nrow(test.data)\n",
    "    \n",
    "    ## calculate distances between samples\n",
    "    dist <- as.matrix(dist(rbind(test.data, train.data), method= distance))[1:test.len, (test.len+1):(test.len+train.len)]\n",
    "    result = {}\n",
    "    ## for each test sample...\n",
    "    for (i in 1:test.len){\n",
    "        ### ...find its K nearest neighbours from training sampels...\n",
    "        nn <- as.data.frame(sort(dist[i,], index.return = TRUE))[1:K,2]\n",
    "        ###... and calculate the predicted labels according to the majority vote\n",
    "        result[i]<- (mean(train.label[nn,]))\n",
    "    }\n",
    "    #print(result)\n",
    "    \n",
    "    ## return the class labels as output\n",
    "    return (result)\n",
    "}"
   ]
  },
  {
   "cell_type": "code",
   "execution_count": 4,
   "metadata": {},
   "outputs": [],
   "source": [
    "a=test.data\n",
    "MSE <- data.frame('K'=1:20, 'train'=rep(0,20), 'test'=rep(0,20))\n",
    "for (k in 1:20){\n",
    "    MSE[k,'train'] <- sum((train.label-knn(train.data, train.label, train.data, K=k))**2)/nrow(train.label)\n",
    "    MSE[k,'test'] <-  sum((test.label-knn(train.data, train.label, test.data, K=k))**2)/nrow(train.label)\n",
    "}\n"
   ]
  },
  {
   "cell_type": "code",
   "execution_count": 5,
   "metadata": {},
   "outputs": [
    {
     "data": {
      "image/png": "[encoded data removed]",
      "text/plain": [
       "plot without title"
      ]
     },
     "metadata": {},
     "output_type": "display_data"
    }
   ],
   "source": [
    "MSE.m <- melt(MSE, id='K') # reshape for visualization\n",
    "names(MSE.m) <- c('K', 'type', 'MSE')\n",
    "ggplot(data=MSE.m, aes(x=log(1/K), y=MSE, color=type)) + geom_line() +\n",
    "       scale_color_discrete(guide = guide_legend(title = NULL)) + theme_minimal() +\n",
    "       ggtitle(\"MSE\")"
   ]
  },
  {
   "cell_type": "markdown",
   "metadata": {},
   "source": [
    "Optimum value for K is 11, which minimizes the test error. When K < 11, the model is over-fittting. When K > 11, it is under-fitting. "
   ]
  },
  {
   "cell_type": "markdown",
   "metadata": {},
   "source": [
    "## Question 2"
   ]
  },
  {
   "cell_type": "code",
   "execution_count": 6,
   "metadata": {},
   "outputs": [],
   "source": [
    "train.data = read.csv(\"Task1A.csv\")\n",
    "train.label = train.data[2]\n",
    "train.data = train.data[1]"
   ]
  },
  {
   "cell_type": "code",
   "execution_count": 7,
   "metadata": {},
   "outputs": [],
   "source": [
    "group <- function (original.size, numFold=10){\n",
    "    sample.size = ceiling(original.size/numFold)\n",
    "    indx <- matrix(nrow=numFold, ncol=sample.size)\n",
    "    x = 1:original.size\n",
    "    for (t in 1:(numFold-1)){\n",
    "        a= sample(x, size=sample.size, replace = FALSE)\n",
    "        indx[t, ] = a\n",
    "        x = setdiff(x,a)\n",
    "    }\n",
    "    null = rep(NA,times=sample.size-length(x))\n",
    "    indx[numFold, ]=c(sample(x,length(x)),null)\n",
    "    return(indx)\n",
    "}"
   ]
  },
  {
   "cell_type": "code",
   "execution_count": 8,
   "metadata": {},
   "outputs": [],
   "source": [
    "# KNN function (distance should be one of euclidean, maximum, manhattan, canberra, binary or minkowski)\n",
    "knnCV <- function(train.data, train.label, test.data, K=3, distance = 'euclidean'){\n",
    "    ## count number of train samples\n",
    "    train.data = as.matrix(train.data)\n",
    "    train.label = as.matrix(train.label)\n",
    "    test.data = as.matrix(test.data)\n",
    "    train.len <- nrow(train.data)\n",
    "    #print(train.len)\n",
    "    ## count number of test samples\n",
    "    test.len <- nrow(test.data)\n",
    "    \n",
    "    ## calculate distances between samples\n",
    "    dist <- as.matrix(dist(rbind(test.data, train.data), method= distance))[1:test.len, (test.len+1):(test.len+train.len)]\n",
    "    result = {}\n",
    "    ## for each test sample...\n",
    "    for (i in 1:test.len){\n",
    "        ### ...find its K nearest neighbours from training sampels...\n",
    "        nn <- as.data.frame(sort(dist[i,], index.return = TRUE))[1:K,2]\n",
    "        ###... and calculate the predicted labels according to the majority vote\n",
    "        result[i]<- (mean(train.label[nn,]))\n",
    "    }\n",
    "    \n",
    "    ## return the class labels as output\n",
    "    return (result)\n",
    "}"
   ]
  },
  {
   "cell_type": "code",
   "execution_count": 9,
   "metadata": {},
   "outputs": [],
   "source": [
    "cv = function(train.data, train.label, numFold=10, K=3){\n",
    "    original.size = nrow(train.data)\n",
    "    cv.indx = group(original.size, numFold)\n",
    "    MSE = data.frame('D' = 1:numFold, 'train'=rep(0,numFold), 'test'=rep(0,numFold))\n",
    "    \n",
    "    for (d in 1:(numFold-1)){\n",
    "        test.indx = cv.indx[d,]\n",
    "        train.index = setdiff(1:nrow(train.data),test.indx)\n",
    "        train.d = train.data[train.index,]\n",
    "        train.l = train.label[train.index,]\n",
    "        test.d = train.data[test.indx,]\n",
    "        test.l = train.label[test.indx,]       \n",
    "        MSE[d,'train'] = sum((train.l-knnCV(train.d,train.l,train.d, K=K))**2)/length(train.l)\n",
    "        MSE[d,'test'] = sum((test.l-knnCV(train.d,train.l,test.d, K=K))**2)/length(test.l)\n",
    "    }\n",
    "       \n",
    "    indx.last= cv.indx[numFold,]\n",
    "    i.last={}\n",
    "    for (p in indx.last){\n",
    "        if (!is.na(p)){\n",
    "            i.last=c(i.last,p)\n",
    "        }\n",
    "    }\n",
    "    test.indx = i.last\n",
    "    train.index = setdiff(1:nrow(train.data),test.indx)\n",
    "    train.d = train.data[train.index,]\n",
    "    train.l = train.label[train.index,]\n",
    "    test.d = train.data[test.indx,]\n",
    "    test.l = train.label[test.indx,]\n",
    "    \n",
    "    MSE[numFold,'train'] = sum((train.l-knnCV(train.d,train.l,train.d, K=K))**2)/length(train.l)\n",
    "    MSE[numFold,'test'] = sum((test.l-knnCV(train.d,train.l,test.d, K=K))**2)/length(test.l)\n",
    "    \n",
    "    return(MSE)\n",
    "}"
   ]
  },
  {
   "cell_type": "code",
   "execution_count": 10,
   "metadata": {},
   "outputs": [
    {
     "data": {
      "text/html": [
       "<table>\n",
       "<thead><tr><th scope=col>K</th><th scope=col>TrainMSE</th><th scope=col>TestMSE</th></tr></thead>\n",
       "<tbody>\n",
       "\t<tr><td> 1       </td><td>0.0000000</td><td>2.0691900</td></tr>\n",
       "\t<tr><td> 2       </td><td>0.4963837</td><td>1.6622008</td></tr>\n",
       "\t<tr><td> 3       </td><td>0.7050007</td><td>1.2386137</td></tr>\n",
       "\t<tr><td> 4       </td><td>0.7266060</td><td>1.2272190</td></tr>\n",
       "\t<tr><td> 5       </td><td>0.7634485</td><td>1.0830820</td></tr>\n",
       "\t<tr><td> 6       </td><td>0.7944057</td><td>1.0805710</td></tr>\n",
       "\t<tr><td> 7       </td><td>0.7751103</td><td>0.9721338</td></tr>\n",
       "\t<tr><td> 8       </td><td>0.7268075</td><td>1.0754197</td></tr>\n",
       "\t<tr><td> 9       </td><td>0.7198172</td><td>0.8899209</td></tr>\n",
       "\t<tr><td>10       </td><td>0.7671876</td><td>1.0828026</td></tr>\n",
       "\t<tr><td>11       </td><td>0.8248089</td><td>1.2304271</td></tr>\n",
       "\t<tr><td>12       </td><td>0.8756829</td><td>1.0470366</td></tr>\n",
       "\t<tr><td>13       </td><td>0.9391314</td><td>1.1245728</td></tr>\n",
       "\t<tr><td>14       </td><td>0.9899915</td><td>1.0840169</td></tr>\n",
       "\t<tr><td>15       </td><td>1.0501571</td><td>1.2094309</td></tr>\n",
       "\t<tr><td>16       </td><td>1.1241043</td><td>1.3183483</td></tr>\n",
       "\t<tr><td>17       </td><td>1.2191373</td><td>1.4178963</td></tr>\n",
       "\t<tr><td>18       </td><td>1.3133884</td><td>1.8984525</td></tr>\n",
       "\t<tr><td>19       </td><td>1.4212729</td><td>1.5793961</td></tr>\n",
       "\t<tr><td>20       </td><td>1.5314788</td><td>1.6158129</td></tr>\n",
       "</tbody>\n",
       "</table>\n"
      ],
      "text/latex": [
       "\\begin{tabular}{r|lll}\n",
       " K & TrainMSE & TestMSE\\\\\n",
       "\\hline\n",
       "\t  1        & 0.0000000 & 2.0691900\\\\\n",
       "\t  2        & 0.4963837 & 1.6622008\\\\\n",
       "\t  3        & 0.7050007 & 1.2386137\\\\\n",
       "\t  4        & 0.7266060 & 1.2272190\\\\\n",
       "\t  5        & 0.7634485 & 1.0830820\\\\\n",
       "\t  6        & 0.7944057 & 1.0805710\\\\\n",
       "\t  7        & 0.7751103 & 0.9721338\\\\\n",
       "\t  8        & 0.7268075 & 1.0754197\\\\\n",
       "\t  9        & 0.7198172 & 0.8899209\\\\\n",
       "\t 10        & 0.7671876 & 1.0828026\\\\\n",
       "\t 11        & 0.8248089 & 1.2304271\\\\\n",
       "\t 12        & 0.8756829 & 1.0470366\\\\\n",
       "\t 13        & 0.9391314 & 1.1245728\\\\\n",
       "\t 14        & 0.9899915 & 1.0840169\\\\\n",
       "\t 15        & 1.0501571 & 1.2094309\\\\\n",
       "\t 16        & 1.1241043 & 1.3183483\\\\\n",
       "\t 17        & 1.2191373 & 1.4178963\\\\\n",
       "\t 18        & 1.3133884 & 1.8984525\\\\\n",
       "\t 19        & 1.4212729 & 1.5793961\\\\\n",
       "\t 20        & 1.5314788 & 1.6158129\\\\\n",
       "\\end{tabular}\n"
      ],
      "text/markdown": [
       "\n",
       "| K | TrainMSE | TestMSE |\n",
       "|---|---|---|\n",
       "|  1        | 0.0000000 | 2.0691900 |\n",
       "|  2        | 0.4963837 | 1.6622008 |\n",
       "|  3        | 0.7050007 | 1.2386137 |\n",
       "|  4        | 0.7266060 | 1.2272190 |\n",
       "|  5        | 0.7634485 | 1.0830820 |\n",
       "|  6        | 0.7944057 | 1.0805710 |\n",
       "|  7        | 0.7751103 | 0.9721338 |\n",
       "|  8        | 0.7268075 | 1.0754197 |\n",
       "|  9        | 0.7198172 | 0.8899209 |\n",
       "| 10        | 0.7671876 | 1.0828026 |\n",
       "| 11        | 0.8248089 | 1.2304271 |\n",
       "| 12        | 0.8756829 | 1.0470366 |\n",
       "| 13        | 0.9391314 | 1.1245728 |\n",
       "| 14        | 0.9899915 | 1.0840169 |\n",
       "| 15        | 1.0501571 | 1.2094309 |\n",
       "| 16        | 1.1241043 | 1.3183483 |\n",
       "| 17        | 1.2191373 | 1.4178963 |\n",
       "| 18        | 1.3133884 | 1.8984525 |\n",
       "| 19        | 1.4212729 | 1.5793961 |\n",
       "| 20        | 1.5314788 | 1.6158129 |\n",
       "\n"
      ],
      "text/plain": [
       "   K  TrainMSE  TestMSE  \n",
       "1   1 0.0000000 2.0691900\n",
       "2   2 0.4963837 1.6622008\n",
       "3   3 0.7050007 1.2386137\n",
       "4   4 0.7266060 1.2272190\n",
       "5   5 0.7634485 1.0830820\n",
       "6   6 0.7944057 1.0805710\n",
       "7   7 0.7751103 0.9721338\n",
       "8   8 0.7268075 1.0754197\n",
       "9   9 0.7198172 0.8899209\n",
       "10 10 0.7671876 1.0828026\n",
       "11 11 0.8248089 1.2304271\n",
       "12 12 0.8756829 1.0470366\n",
       "13 13 0.9391314 1.1245728\n",
       "14 14 0.9899915 1.0840169\n",
       "15 15 1.0501571 1.2094309\n",
       "16 16 1.1241043 1.3183483\n",
       "17 17 1.2191373 1.4178963\n",
       "18 18 1.3133884 1.8984525\n",
       "19 19 1.4212729 1.5793961\n",
       "20 20 1.5314788 1.6158129"
      ]
     },
     "metadata": {},
     "output_type": "display_data"
    }
   ],
   "source": [
    "MSE <- data.frame('K'=1:20, 'TrainMSE'=rep(0,20), 'TestMSE'=rep(0,20))\n",
    "numFold=10\n",
    "for (k in 1:20){\n",
    "    result=cv(train.data, train.label, numFold=numFold, K=k)\n",
    "    MSE[k,'TrainMSE']=sum(result[,2])/numFold\n",
    "    MSE[k,'TestMSE']=sum(result[,3])/numFold\n",
    "}\n",
    "MSE"
   ]
  },
  {
   "cell_type": "code",
   "execution_count": 11,
   "metadata": {},
   "outputs": [
    {
     "data": {
      "image/png": "[encoded data removed]",
      "text/plain": [
       "plot without title"
      ]
     },
     "metadata": {},
     "output_type": "display_data"
    }
   ],
   "source": [
    "MSE.m <- melt(MSE, id='K') # reshape for visualization\n",
    "names(MSE.m) <- c('K', 'type', 'MSE')\n",
    "ggplot(data=MSE.m, aes(x=log(1/K), y=MSE, color=type)) + geom_line() +\n",
    "       scale_color_discrete(guide = guide_legend(title = NULL)) + theme_minimal() +\n",
    "       ggtitle(\"MSE\")"
   ]
  },
  {
   "cell_type": "markdown",
   "metadata": {},
   "source": [
    "## Question 3"
   ]
  },
  {
   "cell_type": "code",
   "execution_count": 12,
   "metadata": {},
   "outputs": [],
   "source": [
    "train.data = read.csv(\"Task1B_train.csv\")\n",
    "test.data = read.csv(\"Task1B_test.csv\")\n",
    "train.label = train.data[5]\n",
    "train.data = train.data[-5]\n",
    "test.label = test.data[5]\n",
    "test.data = test.data[-5]"
   ]
  },
  {
   "cell_type": "code",
   "execution_count": 13,
   "metadata": {},
   "outputs": [],
   "source": [
    "boot <- function (original.size, sample.size=25, times=100){\n",
    "    indx <- matrix(nrow=times, ncol=sample.size)\n",
    "    for (t in 1:times){\n",
    "        indx[t, ] <- sample(x=original.size, size=sample.size, replace = TRUE)\n",
    "    }\n",
    "    return(indx)\n",
    "}"
   ]
  },
  {
   "cell_type": "code",
   "execution_count": 14,
   "metadata": {},
   "outputs": [],
   "source": [
    "K <- 20         # Maximum K for KNN \n",
    "L <- 100          # number of datasets\n",
    "N <- 25          # size of datasets\n",
    "idx = boot(nrow(train.data), N, L)"
   ]
  },
  {
   "cell_type": "code",
   "execution_count": 15,
   "metadata": {},
   "outputs": [],
   "source": [
    "error = data.frame('K'=1:K, 'L'=1:L, 'test'=rep(0,L*K))\n",
    "for (k in 1: K){\n",
    "    ### for every dataset sizes:\n",
    "    for (l in 1:L){        \n",
    "        #### calculate iteration index i\n",
    "        i <- (k-1)*L+l\n",
    "        indx <- idx[l,]\n",
    "        #print(indx)\n",
    "        train.d = train.data[indx,]\n",
    "        train.l = train.label[indx,]\n",
    "        error[i,'K'] <- k\n",
    "        error[i,'L'] <- l\n",
    "        #print(length(knnCV(train.d, train.l, test.data, k)))\n",
    "        #### calculate and record the train and test missclassification rates\n",
    "        error[i,'test'] <-  sum((test.label-knnCV(train.d, train.l, test.data, k))**2)/nrow(test.label)\n",
    "\n",
    "    }\n",
    "}"
   ]
  },
  {
   "cell_type": "code",
   "execution_count": 16,
   "metadata": {},
   "outputs": [
    {
     "data": {
      "image/png": "[encoded data removed]",
      "text/plain": [
       "plot without title"
      ]
     },
     "metadata": {},
     "output_type": "display_data"
    }
   ],
   "source": [
    "error.m <- melt(error, id=c('K', 'L')) # reshape for visualization\n",
    "names(error.m) <- c('K', 'L', 'type', 'error')\n",
    "#error.m\n",
    "ggplot(data=error.m[error.m$type=='test',], aes(factor(K), error,fill=type)) + geom_boxplot(outlier.shape = NA)  + \n",
    "    scale_color_discrete(guide = guide_legend(title = NULL)) + \n",
    "    ggtitle('Error vs. K (Box Plot)') + theme_minimal()\n",
    "# ignore the warnings (because of ignoring outliers)\n",
    "#options(warn=-1)"
   ]
  },
  {
   "cell_type": "code",
   "execution_count": 17,
   "metadata": {},
   "outputs": [],
   "source": [
    "error = data.frame('TIMES', 'L', 'test')\n",
    "\n",
    "k = 10\n",
    "i = 0\n",
    "for (n in 1:20){\n",
    "    \n",
    "    L = 10 * n\n",
    "    idx = boot(nrow(train.data), 25, L)\n",
    "\n",
    "    for (l in 1:L){        \n",
    "        #### calculate iteration index i\n",
    "        i <- i+1\n",
    "        indx <- idx[l,]\n",
    "        #print(indx)\n",
    "        train.d = train.data[indx,]\n",
    "        train.l = train.label[indx,]\n",
    "        error[i,'TIMES'] <- L\n",
    "        error[i,'L'] <- l\n",
    "        #print(length(knnCV(train.d, train.l, test.data, k)))\n",
    "        #### calculate and record the train and test missclassification rates\n",
    "        error[i,'test'] <-  sum((test.label-knnCV(train.d, train.l, test.data, k))**2)/nrow(test.label)\n",
    "    }\n",
    "}\n",
    "\n",
    "backup=error\n"
   ]
  },
  {
   "cell_type": "code",
   "execution_count": 25,
   "metadata": {},
   "outputs": [
    {
     "data": {
      "image/png": "[encoded data removed]",
      "text/plain": [
       "plot without title"
      ]
     },
     "metadata": {},
     "output_type": "display_data"
    }
   ],
   "source": [
    "error = backup\n",
    "error.m <- melt(error[,4:6][,-2], id=c('TIMES')) \n",
    "#error.m\n",
    "names(error.m) <- c('TIMES', 'type', 'error')\n",
    "\n",
    "ggplot(data=error.m[error.m$type=='test',], aes(factor(TIMES), error,fill=type)) + geom_boxplot(outlier.shape = NA)  + \n",
    "    scale_color_discrete(guide = guide_legend(title = NULL)) + \n",
    "    ggtitle('Error vs. L (Box Plot)') + theme_minimal()"
   ]
  },
  {
   "cell_type": "markdown",
   "metadata": {},
   "source": [
    "## Question 4"
   ]
  },
  {
   "cell_type": "markdown",
   "metadata": {},
   "source": [
    "$P(Blue|Apple)=\\frac{P(Apple|Blue)*P(Blue)}{P(Apple)}=\\frac{P(Apple|Blue)*P(Blue)}{P(Apple|Blue)*P(Blue)+P(Apple|Red)*P(Red)}=\\frac{0.75*0.6}{0.75*0.6+0.25*0.4}=0.8182$"
   ]
  },
  {
   "cell_type": "markdown",
   "metadata": {},
   "source": [
    "## Question 5"
   ]
  },
  {
   "cell_type": "markdown",
   "metadata": {},
   "source": [
    "For the i-th dice toss, the probablity of number $n$ is $p(n)=w_n$\n",
    "\n",
    "and $w_1 +w_2 +w_3 +w_4 +w_5 +w_6 =1$\n",
    "\n",
    "Likelihood function: $L(w|D)=p(D|w)=w_1^2*w_2*w_3*w_4*w_5^2*w_6^3$\n",
    "\n",
    "$ln(p(Dlw) = 2ln(w_1)+ln(w_2)+ln(w_3)+ln(w_4)+2ln(w_5)+3ln(w_6)$\n",
    "\n",
    "Then we find $w$ to maximize the $ln(p(Dlw)$\n",
    "\n",
    "$w_1=0.2$\n",
    "\n",
    "$w_2=0.1$\n",
    "\n",
    "$w_3=0.1$\n",
    "\n",
    "$w_4=0.1$\n",
    "\n",
    "$w_5=0.2$\n",
    "\n",
    "$w_6=0.3$\n",
    "\n",
    "\n"
   ]
  },
  {
   "cell_type": "markdown",
   "metadata": {},
   "source": [
    "## Question 6"
   ]
  },
  {
   "cell_type": "code",
   "execution_count": 29,
   "metadata": {},
   "outputs": [],
   "source": [
    "train = read.csv(\"Task2A_train.csv\")\n",
    "test = read.csv(\"Task2A_test.csv\")\n",
    "\n",
    "train.len = nrow(train)\n",
    "train.index = 1:train.len\n",
    "train.label = train[train.index,'y']\n",
    "train.data = train[train.index,1:4]\n",
    "test.label = test['y']\n",
    "test.data = test[1:4]"
   ]
  },
  {
   "cell_type": "code",
   "execution_count": 30,
   "metadata": {},
   "outputs": [],
   "source": [
    "# auxiliary function to calculate labels based on the estimated coefficients\n",
    "predict_func <- function(Phi, w){\n",
    "    return(Phi%*%w)\n",
    "} \n",
    "\n",
    "# auxiliary function to calculate a cost function\n",
    "error_func <- function (Phi, w, label){\n",
    "    return(sum((predict_func(Phi, w) - label)^2)/2)\n",
    "}"
   ]
  },
  {
   "cell_type": "code",
   "execution_count": null,
   "metadata": {},
   "outputs": [],
   "source": []
  },
  {
   "cell_type": "code",
   "execution_count": 31,
   "metadata": {},
   "outputs": [],
   "source": [
    "# project data using a basis function (identical here)\n",
    "Phi <- as.matrix(cbind('X0'=1, train.data)) # add a column of 1 as phi_0\n",
    "\n",
    "T <- train.label # rename just for conviniance\n",
    "\n",
    "tau.max <- 20 # maximum number of iterations\n",
    "eta <- 0.01 # learning rate\n",
    "epsilon <- 0.1 * mean(T) # a threshold on the cost (to terminate the process)\n",
    "\n",
    "W <- matrix(,nrow=tau.max, ncol=ncol(Phi)) # be used to store the estimated oefficients\n",
    "W[1,] <- runif(ncol(Phi)) # initial weight (any better idea?)\n",
    "\n",
    "error <- data.frame('tau'=1:tau.max)  # to be used to trace the test and training errors in each iteration\n",
    "\n",
    "tau <- 1 # iteration counter\n",
    "terminate <- FALSE"
   ]
  },
  {
   "cell_type": "code",
   "execution_count": 32,
   "metadata": {},
   "outputs": [
    {
     "data": {
      "text/html": [
       "470602008.465173"
      ],
      "text/latex": [
       "470602008.465173"
      ],
      "text/markdown": [
       "470602008.465173"
      ],
      "text/plain": [
       "[1] 470602008"
      ]
     },
     "metadata": {},
     "output_type": "display_data"
    }
   ],
   "source": [
    "error_func(Phi, W[tau,],T)"
   ]
  },
  {
   "cell_type": "code",
   "execution_count": 33,
   "metadata": {},
   "outputs": [
    {
     "name": "stdout",
     "output_type": "stream",
     "text": [
      "[1] 470602008\n",
      "[1] 1.618093e+20\n",
      "[1] 3.710133e+30\n",
      "[1] 1.279001e+41\n",
      "[1] 2.498572e+51\n",
      "[1] 4.23391e+61\n",
      "[1] 2.360869e+72\n",
      "[1] 1.840308e+83\n",
      "[1] 9.334926e+93\n",
      "[1] 3.803906e+104\n",
      "[1] 6.252194e+114\n",
      "[1] 1.418297e+125\n",
      "[1] 7.651618e+135\n",
      "[1] 1.446318e+146\n",
      "[1] 3.011079e+156\n",
      "[1] 7.767216e+166\n",
      "[1] 2.153159e+178\n",
      "[1] 1.162524e+190\n",
      "[1] 6.803169e+200\n",
      "[1] 1.73715e+212\n"
     ]
    },
    {
     "data": {
      "text/html": [
       "<ol class=list-inline>\n",
       "\t<li>-1.56002562352667e+97</li>\n",
       "\t<li>-3.11598918612399e+100</li>\n",
       "\t<li>-5.56814201524883e+100</li>\n",
       "\t<li>-8.04584070841175e+100</li>\n",
       "\t<li>-4.34358282315971e+100</li>\n",
       "</ol>\n"
      ],
      "text/latex": [
       "\\begin{enumerate*}\n",
       "\\item -1.56002562352667e+97\n",
       "\\item -3.11598918612399e+100\n",
       "\\item -5.56814201524883e+100\n",
       "\\item -8.04584070841175e+100\n",
       "\\item -4.34358282315971e+100\n",
       "\\end{enumerate*}\n"
      ],
      "text/markdown": [
       "1. -1.56002562352667e+97\n",
       "2. -3.11598918612399e+100\n",
       "3. -5.56814201524883e+100\n",
       "4. -8.04584070841175e+100\n",
       "5. -4.34358282315971e+100\n",
       "\n",
       "\n"
      ],
      "text/plain": [
       "[1]  -1.560026e+97 -3.115989e+100 -5.568142e+100 -8.045841e+100 -4.343583e+100"
      ]
     },
     "metadata": {},
     "output_type": "display_data"
    }
   ],
   "source": [
    "while(!terminate){\n",
    "    # check termination criteria:\n",
    "    terminate <- tau >= tau.max | error_func(Phi, W[tau,],T)<=epsilon\n",
    "    \n",
    "    # shuffle data:\n",
    "    train.index <- sample(1:train.len, train.len, replace = FALSE)\n",
    "    Phi <- Phi[train.index,]\n",
    "    T <- T[train.index]\n",
    "    \n",
    "    # for each datapoint:\n",
    "    for (i in 1:train.len){\n",
    "        print(error_func(Phi, W[tau,],T))\n",
    "        # check termination criteria:\n",
    "        if (tau >= tau.max | error_func(Phi, W[tau,],T)<=epsilon) {terminate<-TRUE;break}\n",
    "        \n",
    "        t_pred = predict_func(Phi[i,], W[tau,])\n",
    "        # for each coefficient:\n",
    "        for (j in 1: ncol(W)){\n",
    "            # update the coefficient:\n",
    "            W[(tau+1),j] <- W[tau,j] + eta * (T[i]-t_pred) * Phi[i,j]\n",
    "        }\n",
    "        \n",
    "        # record the error:\n",
    "        error[tau, 'train'] <- error_func(as.matrix(cbind(1, train.data)), W[tau,],train.label)\n",
    "        error[tau, 'test'] <- error_func(as.matrix(cbind(1, test.data)), W[tau,],test.label)\n",
    "        \n",
    "        # update the counter:\n",
    "        tau <- tau + 1 \n",
    "        \n",
    "    }\n",
    "}\n",
    "error.m <- melt(error[1:tau,], id='tau')\n",
    "\n",
    "# the  final result is:\n",
    "w <- W[tau,]\n",
    "w"
   ]
  },
  {
   "cell_type": "code",
   "execution_count": 34,
   "metadata": {},
   "outputs": [
    {
     "data": {
      "text/html": [
       "<table>\n",
       "<tbody>\n",
       "\t<tr><td> 1.307476e-01 </td><td>  5.494227e-01</td><td>  7.106089e-01</td><td>  2.581493e-01</td><td>  3.114445e-01</td></tr>\n",
       "\t<tr><td>-1.310454e+01 </td><td> -2.644331e+04</td><td> -5.492985e+04</td><td> -8.063841e+04</td><td> -3.854351e+04</td></tr>\n",
       "\t<tr><td> 4.117909e+06 </td><td>  8.209099e+09</td><td>  6.989665e+09</td><td>  9.754453e+09</td><td>  7.993672e+09</td></tr>\n",
       "\t<tr><td>-7.098860e+11 </td><td> -1.416258e+15</td><td> -1.465306e+15</td><td> -1.845846e+15</td><td> -1.316128e+15</td></tr>\n",
       "\t<tr><td> 1.149733e+17 </td><td>  2.290654e+20</td><td>  1.986840e+20</td><td>  2.161609e+20</td><td>  2.335225e+20</td></tr>\n",
       "\t<tr><td>-1.590400e+22 </td><td> -3.167520e+25</td><td> -2.627499e+25</td><td> -2.745347e+25</td><td> -2.947645e+25</td></tr>\n",
       "\t<tr><td> 2.683511e+27 </td><td>  5.356216e+30</td><td>  6.128720e+30</td><td>  8.828240e+30</td><td>  4.989453e+30</td></tr>\n",
       "\t<tr><td>-6.862102e+32 </td><td> -1.370122e+36</td><td> -1.754126e+36</td><td> -2.514550e+36</td><td> -1.362951e+36</td></tr>\n",
       "\t<tr><td> 1.717604e+38 </td><td>  3.425027e+41</td><td>  3.619486e+41</td><td>  5.223744e+41</td><td>  3.906692e+41</td></tr>\n",
       "\t<tr><td>-3.687362e+43 </td><td> -7.354201e+46</td><td> -7.960572e+46</td><td> -1.006059e+47</td><td> -7.528482e+46</td></tr>\n",
       "\t<tr><td> 6.005778e+48 </td><td>  1.196418e+52</td><td>  1.011209e+52</td><td>  1.072088e+52</td><td>  1.120437e+52</td></tr>\n",
       "\t<tr><td>-8.454457e+53 </td><td> -1.685295e+57</td><td> -1.378389e+57</td><td> -1.864379e+57</td><td> -1.551984e+57</td></tr>\n",
       "\t<tr><td> 1.550338e+59 </td><td>  3.091392e+62</td><td>  3.496467e+62</td><td>  4.585286e+62</td><td>  3.516480e+62</td></tr>\n",
       "\t<tr><td>-2.780347e+64 </td><td> -5.539275e+67</td><td> -4.856925e+67</td><td> -5.202847e+67</td><td> -5.500078e+67</td></tr>\n",
       "\t<tr><td> 4.015756e+69 </td><td>  8.000699e+72</td><td>  6.954004e+72</td><td>  7.467298e+72</td><td>  8.058017e+72</td></tr>\n",
       "\t<tr><td>-6.038359e+74 </td><td> -1.203731e+78</td><td> -1.018755e+78</td><td> -1.399693e+78</td><td> -1.153507e+78</td></tr>\n",
       "\t<tr><td> 1.687381e+80 </td><td>  3.371212e+83</td><td>  6.203921e+83</td><td>  9.174309e+83</td><td>  4.554077e+83</td></tr>\n",
       "\t<tr><td>-1.068199e+86 </td><td> -2.134298e+89</td><td> -4.718181e+89</td><td> -6.833268e+89</td><td> -3.282361e+89</td></tr>\n",
       "\t<tr><td> 4.454126e+91 </td><td>  8.890863e+94</td><td>  1.093971e+95</td><td>  1.441708e+95</td><td>  8.922048e+94</td></tr>\n",
       "\t<tr><td>-1.560026e+97 </td><td>-3.115989e+100</td><td>-5.568142e+100</td><td>-8.045841e+100</td><td>-4.343583e+100</td></tr>\n",
       "</tbody>\n",
       "</table>\n"
      ],
      "text/latex": [
       "\\begin{tabular}{lllll}\n",
       "\t  1.307476e-01  &   5.494227e-01 &   7.106089e-01 &   2.581493e-01 &   3.114445e-01\\\\\n",
       "\t -1.310454e+01  &  -2.644331e+04 &  -5.492985e+04 &  -8.063841e+04 &  -3.854351e+04\\\\\n",
       "\t  4.117909e+06  &   8.209099e+09 &   6.989665e+09 &   9.754453e+09 &   7.993672e+09\\\\\n",
       "\t -7.098860e+11  &  -1.416258e+15 &  -1.465306e+15 &  -1.845846e+15 &  -1.316128e+15\\\\\n",
       "\t  1.149733e+17  &   2.290654e+20 &   1.986840e+20 &   2.161609e+20 &   2.335225e+20\\\\\n",
       "\t -1.590400e+22  &  -3.167520e+25 &  -2.627499e+25 &  -2.745347e+25 &  -2.947645e+25\\\\\n",
       "\t  2.683511e+27  &   5.356216e+30 &   6.128720e+30 &   8.828240e+30 &   4.989453e+30\\\\\n",
       "\t -6.862102e+32  &  -1.370122e+36 &  -1.754126e+36 &  -2.514550e+36 &  -1.362951e+36\\\\\n",
       "\t  1.717604e+38  &   3.425027e+41 &   3.619486e+41 &   5.223744e+41 &   3.906692e+41\\\\\n",
       "\t -3.687362e+43  &  -7.354201e+46 &  -7.960572e+46 &  -1.006059e+47 &  -7.528482e+46\\\\\n",
       "\t  6.005778e+48  &   1.196418e+52 &   1.011209e+52 &   1.072088e+52 &   1.120437e+52\\\\\n",
       "\t -8.454457e+53  &  -1.685295e+57 &  -1.378389e+57 &  -1.864379e+57 &  -1.551984e+57\\\\\n",
       "\t  1.550338e+59  &   3.091392e+62 &   3.496467e+62 &   4.585286e+62 &   3.516480e+62\\\\\n",
       "\t -2.780347e+64  &  -5.539275e+67 &  -4.856925e+67 &  -5.202847e+67 &  -5.500078e+67\\\\\n",
       "\t  4.015756e+69  &   8.000699e+72 &   6.954004e+72 &   7.467298e+72 &   8.058017e+72\\\\\n",
       "\t -6.038359e+74  &  -1.203731e+78 &  -1.018755e+78 &  -1.399693e+78 &  -1.153507e+78\\\\\n",
       "\t  1.687381e+80  &   3.371212e+83 &   6.203921e+83 &   9.174309e+83 &   4.554077e+83\\\\\n",
       "\t -1.068199e+86  &  -2.134298e+89 &  -4.718181e+89 &  -6.833268e+89 &  -3.282361e+89\\\\\n",
       "\t  4.454126e+91  &   8.890863e+94 &   1.093971e+95 &   1.441708e+95 &   8.922048e+94\\\\\n",
       "\t -1.560026e+97  & -3.115989e+100 & -5.568142e+100 & -8.045841e+100 & -4.343583e+100\\\\\n",
       "\\end{tabular}\n"
      ],
      "text/markdown": [
       "\n",
       "|  1.307476e-01  |   5.494227e-01 |   7.106089e-01 |   2.581493e-01 |   3.114445e-01 |\n",
       "| -1.310454e+01  |  -2.644331e+04 |  -5.492985e+04 |  -8.063841e+04 |  -3.854351e+04 |\n",
       "|  4.117909e+06  |   8.209099e+09 |   6.989665e+09 |   9.754453e+09 |   7.993672e+09 |\n",
       "| -7.098860e+11  |  -1.416258e+15 |  -1.465306e+15 |  -1.845846e+15 |  -1.316128e+15 |\n",
       "|  1.149733e+17  |   2.290654e+20 |   1.986840e+20 |   2.161609e+20 |   2.335225e+20 |\n",
       "| -1.590400e+22  |  -3.167520e+25 |  -2.627499e+25 |  -2.745347e+25 |  -2.947645e+25 |\n",
       "|  2.683511e+27  |   5.356216e+30 |   6.128720e+30 |   8.828240e+30 |   4.989453e+30 |\n",
       "| -6.862102e+32  |  -1.370122e+36 |  -1.754126e+36 |  -2.514550e+36 |  -1.362951e+36 |\n",
       "|  1.717604e+38  |   3.425027e+41 |   3.619486e+41 |   5.223744e+41 |   3.906692e+41 |\n",
       "| -3.687362e+43  |  -7.354201e+46 |  -7.960572e+46 |  -1.006059e+47 |  -7.528482e+46 |\n",
       "|  6.005778e+48  |   1.196418e+52 |   1.011209e+52 |   1.072088e+52 |   1.120437e+52 |\n",
       "| -8.454457e+53  |  -1.685295e+57 |  -1.378389e+57 |  -1.864379e+57 |  -1.551984e+57 |\n",
       "|  1.550338e+59  |   3.091392e+62 |   3.496467e+62 |   4.585286e+62 |   3.516480e+62 |\n",
       "| -2.780347e+64  |  -5.539275e+67 |  -4.856925e+67 |  -5.202847e+67 |  -5.500078e+67 |\n",
       "|  4.015756e+69  |   8.000699e+72 |   6.954004e+72 |   7.467298e+72 |   8.058017e+72 |\n",
       "| -6.038359e+74  |  -1.203731e+78 |  -1.018755e+78 |  -1.399693e+78 |  -1.153507e+78 |\n",
       "|  1.687381e+80  |   3.371212e+83 |   6.203921e+83 |   9.174309e+83 |   4.554077e+83 |\n",
       "| -1.068199e+86  |  -2.134298e+89 |  -4.718181e+89 |  -6.833268e+89 |  -3.282361e+89 |\n",
       "|  4.454126e+91  |   8.890863e+94 |   1.093971e+95 |   1.441708e+95 |   8.922048e+94 |\n",
       "| -1.560026e+97  | -3.115989e+100 | -5.568142e+100 | -8.045841e+100 | -4.343583e+100 |\n",
       "\n"
      ],
      "text/plain": [
       "      [,1]          [,2]           [,3]           [,4]           [,5]          \n",
       " [1,]  1.307476e-01   5.494227e-01   7.106089e-01   2.581493e-01   3.114445e-01\n",
       " [2,] -1.310454e+01  -2.644331e+04  -5.492985e+04  -8.063841e+04  -3.854351e+04\n",
       " [3,]  4.117909e+06   8.209099e+09   6.989665e+09   9.754453e+09   7.993672e+09\n",
       " [4,] -7.098860e+11  -1.416258e+15  -1.465306e+15  -1.845846e+15  -1.316128e+15\n",
       " [5,]  1.149733e+17   2.290654e+20   1.986840e+20   2.161609e+20   2.335225e+20\n",
       " [6,] -1.590400e+22  -3.167520e+25  -2.627499e+25  -2.745347e+25  -2.947645e+25\n",
       " [7,]  2.683511e+27   5.356216e+30   6.128720e+30   8.828240e+30   4.989453e+30\n",
       " [8,] -6.862102e+32  -1.370122e+36  -1.754126e+36  -2.514550e+36  -1.362951e+36\n",
       " [9,]  1.717604e+38   3.425027e+41   3.619486e+41   5.223744e+41   3.906692e+41\n",
       "[10,] -3.687362e+43  -7.354201e+46  -7.960572e+46  -1.006059e+47  -7.528482e+46\n",
       "[11,]  6.005778e+48   1.196418e+52   1.011209e+52   1.072088e+52   1.120437e+52\n",
       "[12,] -8.454457e+53  -1.685295e+57  -1.378389e+57  -1.864379e+57  -1.551984e+57\n",
       "[13,]  1.550338e+59   3.091392e+62   3.496467e+62   4.585286e+62   3.516480e+62\n",
       "[14,] -2.780347e+64  -5.539275e+67  -4.856925e+67  -5.202847e+67  -5.500078e+67\n",
       "[15,]  4.015756e+69   8.000699e+72   6.954004e+72   7.467298e+72   8.058017e+72\n",
       "[16,] -6.038359e+74  -1.203731e+78  -1.018755e+78  -1.399693e+78  -1.153507e+78\n",
       "[17,]  1.687381e+80   3.371212e+83   6.203921e+83   9.174309e+83   4.554077e+83\n",
       "[18,] -1.068199e+86  -2.134298e+89  -4.718181e+89  -6.833268e+89  -3.282361e+89\n",
       "[19,]  4.454126e+91   8.890863e+94   1.093971e+95   1.441708e+95   8.922048e+94\n",
       "[20,] -1.560026e+97 -3.115989e+100 -5.568142e+100 -8.045841e+100 -4.343583e+100"
      ]
     },
     "metadata": {},
     "output_type": "display_data"
    }
   ],
   "source": [
    "W"
   ]
  },
  {
   "cell_type": "code",
   "execution_count": 35,
   "metadata": {},
   "outputs": [
    {
     "name": "stderr",
     "output_type": "stream",
     "text": [
      "ERROR while rich displaying an object: Error in if ((w[1] * sm + w[2] * cm + w[3] * dm + w[4]) < best$score) break: missing value where TRUE/FALSE needed\n",
      "\n",
      "Traceback:\n",
      "1. FUN(X[[i]], ...)\n",
      "2. tryCatch(withCallingHandlers({\n",
      " .     if (!mime %in% names(repr::mime2repr)) \n",
      " .         stop(\"No repr_* for mimetype \", mime, \" in repr::mime2repr\")\n",
      " .     rpr <- repr::mime2repr[[mime]](obj)\n",
      " .     if (is.null(rpr)) \n",
      " .         return(NULL)\n",
      " .     prepare_content(is.raw(rpr), rpr)\n",
      " . }, error = error_handler), error = outer_handler)\n",
      "3. tryCatchList(expr, classes, parentenv, handlers)\n",
      "4. tryCatchOne(expr, names, parentenv, handlers[[1L]])\n",
      "5. doTryCatch(return(expr), name, parentenv, handler)\n",
      "6. withCallingHandlers({\n",
      " .     if (!mime %in% names(repr::mime2repr)) \n",
      " .         stop(\"No repr_* for mimetype \", mime, \" in repr::mime2repr\")\n",
      " .     rpr <- repr::mime2repr[[mime]](obj)\n",
      " .     if (is.null(rpr)) \n",
      " .         return(NULL)\n",
      " .     prepare_content(is.raw(rpr), rpr)\n",
      " . }, error = error_handler)\n",
      "7. repr::mime2repr[[mime]](obj)\n",
      "8. repr_text.default(obj)\n",
      "9. paste(capture.output(print(obj)), collapse = \"\\n\")\n",
      "10. capture.output(print(obj))\n",
      "11. evalVis(expr)\n",
      "12. withVisible(eval(expr, pf))\n",
      "13. eval(expr, pf)\n",
      "14. eval(expr, pf)\n",
      "15. print(obj)\n",
      "16. print.ggplot(obj)\n",
      "17. ggplot_build(x)\n",
      "18. ggplot_build.ggplot(x)\n",
      "19. layout$setup_panel_params()\n",
      "20. f(..., self = self)\n",
      "21. Map(setup_panel_params, scales_x, scales_y)\n",
      "22. mapply(FUN = f, ..., SIMPLIFY = FALSE)\n",
      "23. (function (scale_x, scale_y) \n",
      "  . {\n",
      "  .     self$coord$setup_panel_params(scale_x, scale_y, params = self$coord_params)\n",
      "  . })(dots[[1L]][[1L]], dots[[2L]][[1L]])\n",
      "24. self$coord$setup_panel_params(scale_x, scale_y, params = self$coord_params)\n",
      "25. f(..., self = self)\n",
      "26. train_cartesian(scale_y, self$limits$y, \"y\")\n",
      "27. scale$break_info(range)\n",
      "28. f(..., self = self)\n",
      "29. ggproto_parent(ScaleContinuous, self)$break_info(range)\n",
      "30. f(..., self = self)\n",
      "31. self$get_breaks(range)\n",
      "32. f(..., self = self)\n",
      "33. self$trans$breaks(limits)\n",
      "34. labeling::extended(rng[1], rng[2], n, ...)\n"
     ]
    },
    {
     "data": {
      "image/png": "[encoded data removed]",
      "text/plain": [
       "plot without title"
      ]
     },
     "metadata": {},
     "output_type": "display_data"
    }
   ],
   "source": [
    "ggplot(data=error.m, aes(x=tau, y=value, color=variable)) +\n",
    "    geom_line() + ggtitle('Test and Train Error') +\n",
    "    scale_color_discrete(guide = guide_legend(title = 'Errors')) +theme_minimal()\n",
    "  "
   ]
  },
  {
   "cell_type": "code",
   "execution_count": null,
   "metadata": {},
   "outputs": [],
   "source": []
  },
  {
   "cell_type": "code",
   "execution_count": null,
   "metadata": {},
   "outputs": [],
   "source": []
  }
 ],
 "metadata": {
  "kernelspec": {
   "display_name": "R",
   "language": "R",
   "name": "ir"
  },
  "language_info": {
   "codemirror_mode": "r",
   "file_extension": ".r",
   "mimetype": "text/x-r-source",
   "name": "R",
   "pygments_lexer": "r",
   "version": "3.5.1"
  }
 },
 "nbformat": 4,
 "nbformat_minor": 2
}
